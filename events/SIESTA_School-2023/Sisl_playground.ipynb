{
  "nbformat": 4,
  "nbformat_minor": 0,
  "metadata": {
    "colab": {
      "provenance": [],
      "collapsed_sections": [
        "M01zr8P54agG",
        "F1rve2NS2SQ9",
        "BqFk-HPi4uEQ",
        "lE1Gy0MC30rQ",
        "YhAQX1DqKWl3"
      ],
      "toc_visible": true
    },
    "kernelspec": {
      "name": "python3",
      "display_name": "Python 3"
    },
    "language_info": {
      "name": "python"
    }
  },
  "cells": [
    {
      "cell_type": "markdown",
      "source": [
        "Welcome to sisl's playground\n",
        "----------------------------"
      ],
      "metadata": {
        "id": "cI78p_cH1pWN"
      }
    },
    {
      "cell_type": "markdown",
      "source": [
        "In this notebook, we get two already ran SIESTA simulations and **just have fun postprocessing with sisl**.\n",
        "\n",
        "**Get some inspiration from it**. Go wild and break things, this is just a sandboxed playground :)"
      ],
      "metadata": {
        "id": "erYlV42G2AER"
      }
    },
    {
      "cell_type": "markdown",
      "source": [
        "Prelude: setting things up\n",
        "-------"
      ],
      "metadata": {
        "id": "M01zr8P54agG"
      }
    },
    {
      "cell_type": "markdown",
      "source": [
        "### Simulation files"
      ],
      "metadata": {
        "id": "F1rve2NS2SQ9"
      }
    },
    {
      "cell_type": "markdown",
      "source": [
        "Here we get a zip file with the simulations that we will postprocess and unzip it:"
      ],
      "metadata": {
        "id": "1eudmwNW4h5h"
      }
    },
    {
      "cell_type": "code",
      "execution_count": null,
      "metadata": {
        "id": "p5QWAMxdPSpl"
      },
      "outputs": [],
      "source": [
        "! wget https://github.com/pfebrer/sisl/releases/download/fake-tag/sisl_playground_files.zip\n",
        "! unzip sisl_playground_files.zip"
      ]
    },
    {
      "cell_type": "markdown",
      "source": [
        "After this, you should have two folders:\n",
        "- `graphene_uc`: Graphene unit cell with 2 atoms.\n",
        "- `graphene_defect`: Graphene 6x6 supercell where one atom is missing.\n",
        "\n",
        "You can check the outputs to see that we have the Hamiltonian (`.TSHS`), the density matrix (`.DM`), the electronic density and total potential grids (`.grid.nc`), the main input file (`RUN.fdf`) and the output file (`RUN.out`), amongst other usual SIESTA outputs."
      ],
      "metadata": {
        "id": "j32Ts-pa2lCc"
      }
    },
    {
      "cell_type": "markdown",
      "source": [
        "### Installing `sisl`"
      ],
      "metadata": {
        "id": "D1lT_lEo3mz6"
      }
    },
    {
      "cell_type": "markdown",
      "source": [
        "`sisl` can be simply installed with `pip`. Here we also ask for the extra visualization dependencies."
      ],
      "metadata": {
        "id": "FB6TclYU3qax"
      }
    },
    {
      "cell_type": "code",
      "source": [
        "! pip install sisl[viz]"
      ],
      "metadata": {
        "id": "c741JEJGmZe3"
      },
      "execution_count": null,
      "outputs": []
    },
    {
      "cell_type": "markdown",
      "source": [
        "### Documentation reference\n",
        "\n",
        "- Sisl documentation: https://zerothi.github.io/sisl/\n",
        "- Sisl visualization module documentation: https://zerothi.github.io/sisl/visualization/viz_module/index.html\n",
        "\n",
        "During this notebook **we hardly discuss any technical detail**, but it's all in the documentation!"
      ],
      "metadata": {
        "id": "zv9Aw9x8-0tK"
      }
    },
    {
      "cell_type": "markdown",
      "source": [
        "Here comes the fun\n",
        "-------------------"
      ],
      "metadata": {
        "id": "BqFk-HPi4uEQ"
      }
    },
    {
      "cell_type": "markdown",
      "source": [
        "Everything is set up now, we can start coding!"
      ],
      "metadata": {
        "id": "8W5yOkXt4zz7"
      }
    },
    {
      "cell_type": "markdown",
      "source": [
        "### Importing notebook dependencies"
      ],
      "metadata": {
        "id": "lE1Gy0MC30rQ"
      }
    },
    {
      "cell_type": "code",
      "source": [
        "# Just to define file paths, not related to sisl\n",
        "from pathlib import Path\n",
        "\n",
        "# Sisl imports\n",
        "import sisl\n",
        "import sisl.viz\n",
        "from sisl.viz import merge_plots\n",
        "\n",
        "# To quickly plot the hamiltonian matrix\n",
        "import plotly.express as px\n",
        "\n",
        "# For some reason sisl logger interferes with Colab logger.\n",
        "sisl.nodes.Node.context[\"log_level\"] = \"CRITICAL\""
      ],
      "metadata": {
        "id": "rF_F6---mQR9"
      },
      "execution_count": null,
      "outputs": []
    },
    {
      "cell_type": "markdown",
      "source": [
        "### Inspecting the structures"
      ],
      "metadata": {
        "id": "Jqjb8pgu4PpC"
      }
    },
    {
      "cell_type": "markdown",
      "source": [
        "Let's **explore the structures** that we have!\n",
        "\n",
        "First, we define the path where we can find each of them:"
      ],
      "metadata": {
        "id": "MIi2yGrd5IUi"
      }
    },
    {
      "cell_type": "code",
      "source": [
        "path_uc = Path(\"graphene_uc\")\n",
        "path_defect = Path(\"graphene_defect\")"
      ],
      "metadata": {
        "id": "1HGyB9qkmYEL"
      },
      "execution_count": null,
      "outputs": []
    },
    {
      "cell_type": "markdown",
      "source": [
        "Then, tell sisl where the main fdf file is in each case. `get_sile` creates a `sisl` file for the specific extension. This specific file knows how to read and write things in this format."
      ],
      "metadata": {
        "id": "CeT9xKVd5ScH"
      }
    },
    {
      "cell_type": "code",
      "source": [
        "fdf_uc = sisl.get_sile(path_uc / \"RUN.fdf\")\n",
        "fdf_defect = sisl.get_sile(path_defect / \"RUN.fdf\")"
      ],
      "metadata": {
        "id": "H3tijwSrmstj"
      },
      "execution_count": null,
      "outputs": []
    },
    {
      "cell_type": "markdown",
      "source": [
        "As an example, you can directly plot the geometry from an fdf file, because `sisl` knows how to read from an `fdf` file, and it also knows how to plot geometries.\n",
        "\n",
        "Let's see the unit cell one:"
      ],
      "metadata": {
        "id": "CUe9BszR55Yl"
      }
    },
    {
      "cell_type": "code",
      "source": [
        "fdf_uc.plot.geometry(axes=\"xy\")"
      ],
      "metadata": {
        "id": "7q_mLEqrm7DB"
      },
      "execution_count": null,
      "outputs": []
    },
    {
      "cell_type": "markdown",
      "source": [
        "And then the defect one:"
      ],
      "metadata": {
        "id": "l6ZZLkqq6NDM"
      }
    },
    {
      "cell_type": "code",
      "source": [
        "fdf_defect.plot.geometry(axes=\"xy\")"
      ],
      "metadata": {
        "id": "XGb19Dyhm-KS"
      },
      "execution_count": null,
      "outputs": []
    },
    {
      "cell_type": "markdown",
      "source": [
        "In fact we can combine both in subplots, courtesy of `sisl.viz.merge_plots`:"
      ],
      "metadata": {
        "id": "gvLzOykx6Plw"
      }
    },
    {
      "cell_type": "code",
      "source": [
        "plot_uc = fdf_uc.plot.geometry(axes=\"xy\")\n",
        "plot_def = fdf_defect.plot.geometry(axes=\"xy\")\n",
        "\n",
        "merge_plots(plot_uc, plot_def, composite_method=\"subplots\", cols=2)"
      ],
      "metadata": {
        "id": "ZplWh_zinVyn"
      },
      "execution_count": null,
      "outputs": []
    },
    {
      "cell_type": "markdown",
      "source": [
        "Now that we have made sure that the structures are what we expected, let's move on!"
      ],
      "metadata": {
        "id": "bEmlsxKf6crh"
      }
    },
    {
      "cell_type": "markdown",
      "source": [
        "### Graphene unit cell\n",
        "\n",
        "First we will warm up by analyzing (not so) boring graphene unit cell case."
      ],
      "metadata": {
        "id": "s7xywGWD6jrV"
      }
    },
    {
      "cell_type": "markdown",
      "source": [
        "#### The Hamiltonian\n",
        "\n",
        "Of course, `sisl` knows how to read the hamiltonian from the `fdf` file. It will find the `.TSHS` file and read it."
      ],
      "metadata": {
        "id": "3NiWoUAg6r8a"
      }
    },
    {
      "cell_type": "code",
      "source": [
        "H_uc = fdf_uc.read_hamiltonian()"
      ],
      "metadata": {
        "id": "oCOk0oi2npYW"
      },
      "execution_count": null,
      "outputs": []
    },
    {
      "cell_type": "markdown",
      "source": [
        "Let's see what is the information that it contains:"
      ],
      "metadata": {
        "id": "khVF2nLz7OSo"
      }
    },
    {
      "cell_type": "code",
      "source": [
        "H_uc"
      ],
      "metadata": {
        "id": "rJkdp07o7LmR"
      },
      "execution_count": null,
      "outputs": []
    },
    {
      "cell_type": "markdown",
      "source": [
        "The hamiltonian is a matrix. But it is a sparse matrix, stored in the **Compressed Sparse Row** (CSR) format.\n",
        "\n",
        "We can convert it to a numpy array:"
      ],
      "metadata": {
        "id": "n97vjtr27TE4"
      }
    },
    {
      "cell_type": "code",
      "source": [
        "H_matrix = H_uc.tocsr().toarray()\n",
        "H_matrix"
      ],
      "metadata": {
        "id": "wyyDH4Sv7SYs"
      },
      "execution_count": null,
      "outputs": []
    },
    {
      "cell_type": "markdown",
      "source": [
        "And then plot it as an image:"
      ],
      "metadata": {
        "id": "tyQ26BAP8zSD"
      }
    },
    {
      "cell_type": "code",
      "source": [
        "# Convert 0s to np.nan so that they are not plotted\n",
        "# (these are the elements that were outside of the sparsity pattern)\n",
        "H_matrix[H_matrix == 0] = None\n",
        "px.imshow(H_matrix)"
      ],
      "metadata": {
        "id": "uVZI6WBY8Y59"
      },
      "execution_count": null,
      "outputs": []
    },
    {
      "cell_type": "markdown",
      "source": [
        "#### Computing the PDOS"
      ],
      "metadata": {
        "id": "XtyIKyLM9kbk"
      }
    },
    {
      "cell_type": "markdown",
      "source": [
        "From the Hamiltonian, one can compute the PDOS by diagonalizing it. SIESTA does it, but we can also do it in `sisl`."
      ],
      "metadata": {
        "id": "bs-k974k9qG6"
      }
    },
    {
      "cell_type": "code",
      "source": [
        "pdos_uc = H_uc.plot.pdos(kgrid=[81, 81, 1], data_Erange=[-10, 10], Erange=[-10, 10], nE=500)\n",
        "\n",
        "pdos_uc"
      ],
      "metadata": {
        "id": "ilHAJ9X2n4zQ"
      },
      "execution_count": null,
      "outputs": []
    },
    {
      "cell_type": "markdown",
      "source": [
        "This is the total DOS, but we can ask for the contribution of each orbital type:"
      ],
      "metadata": {
        "id": "Tb9LKl_k93hc"
      }
    },
    {
      "cell_type": "code",
      "source": [
        "pdos_uc.split_orbs(on=\"orbitals\", name=\"$orbitals\")"
      ],
      "metadata": {
        "id": "kmZCb8Y_oc1_"
      },
      "execution_count": null,
      "outputs": []
    },
    {
      "cell_type": "markdown",
      "source": [
        "#### Computing bands"
      ],
      "metadata": {
        "id": "6yx1DYPL-OyC"
      }
    },
    {
      "cell_type": "markdown",
      "source": [
        "The bands are also obtained from the Hamiltonian by diagonalizing it. Therefore we can compute them in `sisl`.\n",
        "\n",
        "We just need to define a path:"
      ],
      "metadata": {
        "id": "jnwJXRsY-XDV"
      }
    },
    {
      "cell_type": "code",
      "source": [
        "bands_uc = sisl.BandStructure(\n",
        "    H_uc,\n",
        "    points=[[0, 0, 0], [0, 0.5, 0], [1/3, 2/3, 0], [0, 0, 0]],\n",
        "    divisions=50,\n",
        "    names=[r'$\\Gamma$', r'$M$', r'$K$', r'$\\Gamma$']\n",
        ")"
      ],
      "metadata": {
        "id": "W8E8BA1-n6Ec"
      },
      "execution_count": null,
      "outputs": []
    },
    {
      "cell_type": "markdown",
      "source": [
        "And plot them:"
      ],
      "metadata": {
        "id": "BdAmDX4FAFgF"
      }
    },
    {
      "cell_type": "code",
      "source": [
        "bands_uc.plot(Erange=[-10,10])"
      ],
      "metadata": {
        "id": "NylvnBowouJa"
      },
      "execution_count": null,
      "outputs": []
    },
    {
      "cell_type": "markdown",
      "source": [
        "#### Computing fatbands\n",
        "\n",
        "Fatbands display properties of the bands by varying their width. A usual representation is to show the contribution of groups of orbitals.\n",
        "\n",
        "We can also easily plot fatbands in `sisl`:"
      ],
      "metadata": {
        "id": "9P8U7P7-AKVP"
      }
    },
    {
      "cell_type": "code",
      "source": [
        "fat_uc = bands_uc.plot.fatbands(Erange=[-10, 10])"
      ],
      "metadata": {
        "id": "4ZgPnZAJo1yF"
      },
      "execution_count": null,
      "outputs": []
    },
    {
      "cell_type": "markdown",
      "source": [
        "Fatbands need some specification of which contributions you want to show. As we did with the PDOS, we show the contributions of all orbital types:"
      ],
      "metadata": {
        "id": "OAEoE3FHApcq"
      }
    },
    {
      "cell_type": "code",
      "source": [
        "fat_uc.split_orbs(on=\"orbitals\", name=\"$orbitals\")"
      ],
      "metadata": {
        "id": "1ODS59gepEe8"
      },
      "execution_count": null,
      "outputs": []
    },
    {
      "cell_type": "markdown",
      "source": [
        "#### Computing wavefunctions\n",
        "\n",
        "Eigenstates of the hamiltonian can be projected on real space. We can easily do so with `sisl`.\n",
        "\n",
        "Here, we plot wf 8 at the gamma point:"
      ],
      "metadata": {
        "id": "NOpE6aCtA7WF"
      }
    },
    {
      "cell_type": "code",
      "source": [
        "H_uc.plot.wavefunction(i=8, axes=\"xy\", grid_prec=0.1, nsc=[3, 3, 1], smooth=True, plot_geom=True, z_range=[0, 3])"
      ],
      "metadata": {
        "id": "XQoFN4QopM5_"
      },
      "execution_count": null,
      "outputs": []
    },
    {
      "cell_type": "markdown",
      "source": [
        "But we could compare with other K points. Here is the valence band at $\\Gamma$, which then is valence band -1 at $M$:"
      ],
      "metadata": {
        "id": "b-RknCv7ERYZ"
      }
    },
    {
      "cell_type": "code",
      "source": [
        "wf_gamma = H_uc.plot.wavefunction(i=3, k=(0,0,0), axes=\"xy\", grid_prec=0.1, nsc=[1, 1, 1], smooth=True, plot_geom=True, z_range=[0, 3])# crange=[-0.4, 0.4])\n",
        "wf_M = H_uc.plot.wavefunction(i=2, k=(0,0.5,0), axes=\"xy\", grid_prec=0.1, nsc=[1, 1, 1], smooth=True, plot_geom=True, z_range=[0, 3])#, crange=[-0.4, 0.4])\n",
        "\n",
        "merge_plots(wf_gamma, wf_M, composite_method=\"subplots\", cols=2, subplot_titles=[\"Wavefunction at Gamma\", \"Wavefunction at M\"]).update_layout(showlegend=False)"
      ],
      "metadata": {
        "id": "ayRgGV1pBd3p"
      },
      "execution_count": null,
      "outputs": []
    },
    {
      "cell_type": "markdown",
      "source": [
        "#### Reading from the output"
      ],
      "metadata": {
        "id": "GtYfG8GwBSb3"
      }
    },
    {
      "cell_type": "markdown",
      "source": [
        "We can tell `sisl` where the output file is. In this case we need to specify the type of the file (`sisl.io.stdoutSileSiesta`) because there are multiple formats with the extension `.out`."
      ],
      "metadata": {
        "id": "xQmvxBJfF17X"
      }
    },
    {
      "cell_type": "code",
      "source": [
        "out_uc = sisl.get_sile(path_uc / \"RUN.out\", cls=sisl.io.stdoutSileSiesta)"
      ],
      "metadata": {
        "id": "XHiLXbyLpZiO"
      },
      "execution_count": null,
      "outputs": []
    },
    {
      "cell_type": "markdown",
      "source": [
        "Then, we can read multiple output properties from it. Let's do forces, energies, and charges:"
      ],
      "metadata": {
        "id": "IdKtWaGKGFfA"
      }
    },
    {
      "cell_type": "code",
      "source": [
        "out_uc.read_force()"
      ],
      "metadata": {
        "id": "K-jf0RyPqvcm"
      },
      "execution_count": null,
      "outputs": []
    },
    {
      "cell_type": "code",
      "source": [
        "out_uc.read_energy()"
      ],
      "metadata": {
        "id": "2xaVYPsZq2-s"
      },
      "execution_count": null,
      "outputs": []
    },
    {
      "cell_type": "code",
      "source": [
        "out_uc.read_charge(\"hirshfeld\")"
      ],
      "metadata": {
        "id": "1ZTeKtNNq7DN"
      },
      "execution_count": null,
      "outputs": []
    },
    {
      "cell_type": "markdown",
      "source": [
        "We can, for example, take the forces and plot them as arrows on the geometry:"
      ],
      "metadata": {
        "id": "J3Vl7AdBGQ6I"
      }
    },
    {
      "cell_type": "code",
      "source": [
        "forces = out_uc.read_force()\n",
        "fdf_uc.plot.geometry(\n",
        "    axes=\"xy\",\n",
        "    arrows=[{\"data\": forces, \"scale\": 2000, \"width\": 3, \"color\": \"blue\", \"name\": \"Force\"}]\n",
        ")"
      ],
      "metadata": {
        "id": "prIbTrqYq-RP"
      },
      "execution_count": null,
      "outputs": []
    },
    {
      "cell_type": "markdown",
      "source": [
        "#### Reading and plotting real space grids."
      ],
      "metadata": {
        "id": "tSFn1bN2Gcaq"
      }
    },
    {
      "cell_type": "markdown",
      "source": [
        "From the fdf, we can easily read any grid that SIESTA has written to a file. Let's start with the electronic density (rho):"
      ],
      "metadata": {
        "id": "e_RruSa2GjNv"
      }
    },
    {
      "cell_type": "code",
      "source": [
        "rho_uc = fdf_uc.read_grid(\"rho\")\n",
        "rho_uc"
      ],
      "metadata": {
        "id": "2KnXy4sHrHWw"
      },
      "execution_count": null,
      "outputs": []
    },
    {
      "cell_type": "markdown",
      "source": [
        "This is a sisl `Grid` object, which does many interesting things, but for now we will just plot it:"
      ],
      "metadata": {
        "id": "vXbDG0aLGuus"
      }
    },
    {
      "cell_type": "code",
      "source": [
        "rho_uc.plot(axes=\"xy\", plot_geom=True, colorscale=\"temps\")"
      ],
      "metadata": {
        "id": "RkLR3lzgsY5a"
      },
      "execution_count": null,
      "outputs": []
    },
    {
      "cell_type": "markdown",
      "source": [
        "We can do the same with the total potential:"
      ],
      "metadata": {
        "id": "Lcefp3nQG6wf"
      }
    },
    {
      "cell_type": "code",
      "source": [
        "vt_uc = fdf_uc.read_grid(\"totalpotential\")\n",
        "vt_uc.plot(axes=\"xy\", plot_geom=True, colorscale=\"temps\")"
      ],
      "metadata": {
        "id": "0ThtNV3Hsc5d"
      },
      "execution_count": null,
      "outputs": []
    },
    {
      "cell_type": "markdown",
      "source": [
        "Let's now move to the case of defected graphene!"
      ],
      "metadata": {
        "id": "Ms309WAsHOHX"
      }
    },
    {
      "cell_type": "markdown",
      "source": [
        "### Graphene with defect"
      ],
      "metadata": {
        "id": "EXaM7GbZHG6A"
      }
    },
    {
      "cell_type": "markdown",
      "source": [
        "#### Reading from the output"
      ],
      "metadata": {
        "id": "b_y_1ieSHX7Z"
      }
    },
    {
      "cell_type": "markdown",
      "source": [
        "As we did in the case of the unit cell, we will read properties from the output.\n",
        "\n",
        "This time, along with the forces, we will plot net charges of atoms by coloring them.  "
      ],
      "metadata": {
        "id": "G_wzwU_yHd-n"
      }
    },
    {
      "cell_type": "code",
      "source": [
        "# Tell sisl where the output file is.\n",
        "out_defect = sisl.get_sile(path_defect / \"RUN.out\", cls=sisl.io.stdoutSileSiesta)"
      ],
      "metadata": {
        "id": "XPGMhLLytXNs"
      },
      "execution_count": null,
      "outputs": []
    },
    {
      "cell_type": "code",
      "source": [
        "# Read forces and net charges\n",
        "forces_defect = out_defect.read_force()\n",
        "charges_defect = out_defect.read_charge(\"hirshfeld\")[: , 0]"
      ],
      "metadata": {
        "id": "4MxarPuQtlqI"
      },
      "execution_count": null,
      "outputs": []
    },
    {
      "cell_type": "code",
      "source": [
        "# Plot geometry, using charges as colors and showing forces as arrows\n",
        "fdf_defect.plot.geometry(\n",
        "    axes=\"xy\", atoms_style={\"color\": charges_defect}, atoms_colorscale=\"RdBu\",\n",
        "    arrows={\"data\": forces_defect, \"color\": \"green\"}\n",
        ")"
      ],
      "metadata": {
        "id": "LS4C_DT3twV3"
      },
      "execution_count": null,
      "outputs": []
    },
    {
      "cell_type": "markdown",
      "source": [
        "#### Comparing rho and VT with the pristine case"
      ],
      "metadata": {
        "id": "vtcbt8_SIASU"
      }
    },
    {
      "cell_type": "markdown",
      "source": [
        "We will now compare the electronic density and total potential of the defected structure vs the pristine one.\n",
        "\n",
        "Let's start with the electronic density. We read the $\\rho$ for the defected structure:"
      ],
      "metadata": {
        "id": "WhoY3wz7IIjT"
      }
    },
    {
      "cell_type": "code",
      "source": [
        "rho_defect = fdf_defect.read_grid(\"rho\")"
      ],
      "metadata": {
        "id": "GGvrYFo7vPyR"
      },
      "execution_count": null,
      "outputs": []
    },
    {
      "cell_type": "markdown",
      "source": [
        "Then repeat the unit cell $\\rho$ 6 times in each direction to make it as big as the defect one:"
      ],
      "metadata": {
        "id": "f4fIfi7gIcAo"
      }
    },
    {
      "cell_type": "code",
      "source": [
        "rho_sc = rho_uc.tile(6, 0).tile(6, 1)"
      ],
      "metadata": {
        "id": "YbjXNOYovdZm"
      },
      "execution_count": null,
      "outputs": []
    },
    {
      "cell_type": "markdown",
      "source": [
        "And plot the difference:"
      ],
      "metadata": {
        "id": "5B3fWiduIozV"
      }
    },
    {
      "cell_type": "code",
      "source": [
        "(rho_defect - rho_sc).plot(axes=\"xy\", plot_geom=True, crange=[-0.03, 0.03])"
      ],
      "metadata": {
        "id": "QhhUGWyCIrL7"
      },
      "execution_count": null,
      "outputs": []
    },
    {
      "cell_type": "markdown",
      "source": [
        "We can do the same for the total potential:"
      ],
      "metadata": {
        "id": "fMMlRsfHIvKH"
      }
    },
    {
      "cell_type": "code",
      "source": [
        "vt_defect = fdf_defect.read_grid(\"totalpotential\")\n",
        "vt_sc = vt_uc.tile(6, 0).tile(6, 1)\n",
        "\n",
        "(vt_defect - vt_sc).plot(axes=\"xy\", plot_geom=True, crange=[-0.1, 0.1])"
      ],
      "metadata": {
        "id": "PKRqaZnlww6m"
      },
      "execution_count": null,
      "outputs": []
    },
    {
      "cell_type": "markdown",
      "source": [
        "#### Computing the PDOS"
      ],
      "metadata": {
        "id": "J2IH57MWI8CG"
      }
    },
    {
      "cell_type": "markdown",
      "source": [
        "As we did in the pristine case, we can read the Hamiltonian:"
      ],
      "metadata": {
        "id": "9c6BU6h7JBVc"
      }
    },
    {
      "cell_type": "code",
      "source": [
        "H_def = fdf_defect.read_hamiltonian()"
      ],
      "metadata": {
        "id": "ngub0_n6s_Lj"
      },
      "execution_count": null,
      "outputs": []
    },
    {
      "cell_type": "markdown",
      "source": [
        "And compute the PDOS from it. In this case it is much more expensive so we use a bigger gaussian smoothing and less k points."
      ],
      "metadata": {
        "id": "OoN6kREfJJ6E"
      }
    },
    {
      "cell_type": "code",
      "source": [
        "pdos_def = H_def.plot.pdos(kgrid=[5, 5, 1], data_Erange=[-10, 10], Erange=[-10,10], nE=500, distribution=sisl.get_distribution(\"gaussian\", 0.25))"
      ],
      "metadata": {
        "id": "f9ll0cuktMjm"
      },
      "execution_count": null,
      "outputs": []
    },
    {
      "cell_type": "markdown",
      "source": [
        "And we split on orbital types:"
      ],
      "metadata": {
        "id": "ewzB4HJfJUCy"
      }
    },
    {
      "cell_type": "code",
      "source": [
        "pdos_def.split_DOS(on=\"orbitals\", name=\"$orbitals\")"
      ],
      "metadata": {
        "id": "p7ItLL83x8rS"
      },
      "execution_count": null,
      "outputs": []
    },
    {
      "cell_type": "markdown",
      "source": [
        "Or atoms:"
      ],
      "metadata": {
        "id": "7JhApuJwJYp5"
      }
    },
    {
      "cell_type": "code",
      "source": [
        "pdos_def.split_DOS(on=\"atoms\")"
      ],
      "metadata": {
        "id": "JkVz-DiHya-B"
      },
      "execution_count": null,
      "outputs": []
    },
    {
      "cell_type": "markdown",
      "source": [
        "We see that very few atoms contribute to the defect state at 0 eV.\n",
        "\n",
        "We can plot the contribution of each atom in a geometry plot.\n",
        "\n",
        "**THIS IS ALREADY VERY ADVANCED!!** But it shows the versatility that `sisl` has so that you can do whatever you want.\n",
        "\n",
        "We get the PDOS data from the plot:"
      ],
      "metadata": {
        "id": "SLdhQrqAJb1B"
      }
    },
    {
      "cell_type": "code",
      "source": [
        "pdos_data = pdos_def.nodes.pdos_data.get()\n",
        "pdos_data"
      ],
      "metadata": {
        "id": "0f-HEIYdzjEC"
      },
      "execution_count": null,
      "outputs": []
    },
    {
      "cell_type": "markdown",
      "source": [
        "Then group the contributions into atoms:"
      ],
      "metadata": {
        "id": "L6_Oa3HHJ7Ss"
      }
    },
    {
      "cell_type": "code",
      "source": [
        "atom_pdos = pdos_data.sisl.split_orbitals(on=\"atoms\", name=\"$atoms\")\n",
        "atom_pdos"
      ],
      "metadata": {
        "id": "j7d-frVdzuAN"
      },
      "execution_count": null,
      "outputs": []
    },
    {
      "cell_type": "markdown",
      "source": [
        "Select the energies close to the fermi level and integrate over them:"
      ],
      "metadata": {
        "id": "bEHqcFotKFnW"
      }
    },
    {
      "cell_type": "code",
      "source": [
        "near_fermi_atom_pdos = atom_pdos.sel(E=slice(-0.5, 0.5), spin=\"total\").sum(\"E\")"
      ],
      "metadata": {
        "id": "EdEJqcW60Kv9"
      },
      "execution_count": null,
      "outputs": []
    },
    {
      "cell_type": "markdown",
      "source": [
        "And finally plot it:"
      ],
      "metadata": {
        "id": "Dkw-_wehKPki"
      }
    },
    {
      "cell_type": "code",
      "source": [
        "fdf_defect.plot.geometry(atoms_style={\"color\": near_fermi_atom_pdos})"
      ],
      "metadata": {
        "id": "szORPYOZ0wg9"
      },
      "execution_count": null,
      "outputs": []
    },
    {
      "cell_type": "markdown",
      "source": [
        "We are done, what now?\n",
        "----------------------"
      ],
      "metadata": {
        "id": "YhAQX1DqKWl3"
      }
    },
    {
      "cell_type": "markdown",
      "source": [
        "You can try to use `sisl` in your day to day work, it will probably help you! Navigate through the documentation and explore all the possibilities :)\n",
        "\n",
        "Thanks for your attention!"
      ],
      "metadata": {
        "id": "wJzowOlPKfG9"
      }
    }
  ]
}